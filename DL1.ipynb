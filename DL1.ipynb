{
  "nbformat": 4,
  "nbformat_minor": 0,
  "metadata": {
    "colab": {
      "provenance": [],
      "gpuType": "T4",
      "authorship_tag": "ABX9TyOJF9IjkurhYJl8atyf7eRq",
      "include_colab_link": true
    },
    "kernelspec": {
      "name": "python3",
      "display_name": "Python 3"
    },
    "language_info": {
      "name": "python"
    },
    "accelerator": "GPU"
  },
  "cells": [
    {
      "cell_type": "markdown",
      "metadata": {
        "id": "view-in-github",
        "colab_type": "text"
      },
      "source": [
        "<a href=\"https://colab.research.google.com/github/ArpitaDeshmukh2024/SPPU_DL_practicals/blob/main/DL1.ipynb\" target=\"_parent\"><img src=\"https://colab.research.google.com/assets/colab-badge.svg\" alt=\"Open In Colab\"/></a>"
      ]
    },
    {
      "cell_type": "code",
      "execution_count": null,
      "metadata": {
        "id": "EiqzwNo58lTf"
      },
      "outputs": [],
      "source": [
        "import tensorflow as tf\n",
        "from tensorflow.keras.models import Sequential\n",
        "from tensorflow.keras.layers import Dense, Dropout\n",
        "from sklearn.model_selection import train_test_split\n",
        "from sklearn.preprocessing import StandardScaler\n",
        "from sklearn.datasets import fetch_california_housing"
      ]
    },
    {
      "cell_type": "code",
      "source": [
        "data = fetch_california_housing()\n",
        "X_train, X_test, y_train, y_test = train_test_split(data.data, data.target, test_size=0.2, random_state=42)"
      ],
      "metadata": {
        "id": "w3-G3s6D80Sn"
      },
      "execution_count": null,
      "outputs": []
    },
    {
      "cell_type": "code",
      "source": [
        "scaler = StandardScaler()\n",
        "X_train, X_test = scaler.fit_transform(X_train), scaler.transform(X_test)"
      ],
      "metadata": {
        "id": "tIUvnzSE9FWM"
      },
      "execution_count": null,
      "outputs": []
    },
    {
      "cell_type": "code",
      "source": [
        "model = Sequential([\n",
        "Dense(128, activation='relu', input_shape=(X_train.shape[1],)), # Increased neurons\n",
        "Dropout(0.2), # Dropout to prevent overfitting\n",
        "Dense(64, activation='relu'),\n",
        "Dropout(0.2),\n",
        "Dense(32, activation='relu'),\n",
        "Dense(1) # Linear output layer for predicting continuous values\n",
        "])"
      ],
      "metadata": {
        "colab": {
          "base_uri": "https://localhost:8080/"
        },
        "id": "kXwPVmbT9Jzc",
        "outputId": "20e13e80-ad04-478e-fc5c-f7985739355b"
      },
      "execution_count": null,
      "outputs": [
        {
          "output_type": "stream",
          "name": "stderr",
          "text": [
            "/usr/local/lib/python3.11/dist-packages/keras/src/layers/core/dense.py:87: UserWarning: Do not pass an `input_shape`/`input_dim` argument to a layer. When using Sequential models, prefer using an `Input(shape)` object as the first layer in the model instead.\n",
            "  super().__init__(activity_regularizer=activity_regularizer, **kwargs)\n"
          ]
        }
      ]
    },
    {
      "cell_type": "code",
      "source": [
        "model.compile(optimizer=tf.keras.optimizers.Adam(learning_rate=0.001), loss='mse', metrics=['mae'])"
      ],
      "metadata": {
        "id": "zWksgMSo9Pdl"
      },
      "execution_count": null,
      "outputs": []
    },
    {
      "cell_type": "code",
      "source": [
        "model.fit(X_train, y_train, epochs=100, batch_size=16, validation_data=(X_test, y_test))"
      ],
      "metadata": {
        "colab": {
          "base_uri": "https://localhost:8080/"
        },
        "id": "t-FyBOTl9VQG",
        "outputId": "c1fa9c2c-9205-49d1-ff82-4255e02176a6"
      },
      "execution_count": null,
      "outputs": [
        {
          "output_type": "stream",
          "name": "stdout",
          "text": [
            "Epoch 1/100\n",
            "\u001b[1m1032/1032\u001b[0m \u001b[32m━━━━━━━━━━━━━━━━━━━━\u001b[0m\u001b[37m\u001b[0m \u001b[1m7s\u001b[0m 3ms/step - loss: 1.4884 - mae: 0.7264 - val_loss: 0.4333 - val_mae: 0.4536\n",
            "Epoch 2/100\n",
            "\u001b[1m1032/1032\u001b[0m \u001b[32m━━━━━━━━━━━━━━━━━━━━\u001b[0m\u001b[37m\u001b[0m \u001b[1m9s\u001b[0m 4ms/step - loss: 0.4427 - mae: 0.4710 - val_loss: 0.3719 - val_mae: 0.4260\n",
            "Epoch 3/100\n",
            "\u001b[1m1032/1032\u001b[0m \u001b[32m━━━━━━━━━━━━━━━━━━━━\u001b[0m\u001b[37m\u001b[0m \u001b[1m3s\u001b[0m 3ms/step - loss: 0.4109 - mae: 0.4528 - val_loss: 0.3512 - val_mae: 0.4114\n",
            "Epoch 4/100\n",
            "\u001b[1m1032/1032\u001b[0m \u001b[32m━━━━━━━━━━━━━━━━━━━━\u001b[0m\u001b[37m\u001b[0m \u001b[1m4s\u001b[0m 4ms/step - loss: 0.3916 - mae: 0.4413 - val_loss: 0.3557 - val_mae: 0.4205\n",
            "Epoch 5/100\n",
            "\u001b[1m1032/1032\u001b[0m \u001b[32m━━━━━━━━━━━━━━━━━━━━\u001b[0m\u001b[37m\u001b[0m \u001b[1m5s\u001b[0m 4ms/step - loss: 0.3828 - mae: 0.4314 - val_loss: 0.3348 - val_mae: 0.3992\n",
            "Epoch 6/100\n",
            "\u001b[1m1032/1032\u001b[0m \u001b[32m━━━━━━━━━━━━━━━━━━━━\u001b[0m\u001b[37m\u001b[0m \u001b[1m4s\u001b[0m 3ms/step - loss: 0.3423 - mae: 0.4129 - val_loss: 0.3118 - val_mae: 0.3825\n",
            "Epoch 7/100\n",
            "\u001b[1m1032/1032\u001b[0m \u001b[32m━━━━━━━━━━━━━━━━━━━━\u001b[0m\u001b[37m\u001b[0m \u001b[1m3s\u001b[0m 3ms/step - loss: 0.3418 - mae: 0.4104 - val_loss: 0.3031 - val_mae: 0.3769\n",
            "Epoch 8/100\n",
            "\u001b[1m1032/1032\u001b[0m \u001b[32m━━━━━━━━━━━━━━━━━━━━\u001b[0m\u001b[37m\u001b[0m \u001b[1m3s\u001b[0m 3ms/step - loss: 0.3247 - mae: 0.3946 - val_loss: 0.3267 - val_mae: 0.3942\n",
            "Epoch 9/100\n",
            "\u001b[1m1032/1032\u001b[0m \u001b[32m━━━━━━━━━━━━━━━━━━━━\u001b[0m\u001b[37m\u001b[0m \u001b[1m5s\u001b[0m 3ms/step - loss: 0.3240 - mae: 0.3957 - val_loss: 0.3025 - val_mae: 0.3788\n",
            "Epoch 10/100\n",
            "\u001b[1m1032/1032\u001b[0m \u001b[32m━━━━━━━━━━━━━━━━━━━━\u001b[0m\u001b[37m\u001b[0m \u001b[1m5s\u001b[0m 3ms/step - loss: 0.3195 - mae: 0.3961 - val_loss: 0.2961 - val_mae: 0.3672\n",
            "Epoch 11/100\n",
            "\u001b[1m1032/1032\u001b[0m \u001b[32m━━━━━━━━━━━━━━━━━━━━\u001b[0m\u001b[37m\u001b[0m \u001b[1m4s\u001b[0m 3ms/step - loss: 0.3251 - mae: 0.3953 - val_loss: 0.2979 - val_mae: 0.3743\n",
            "Epoch 12/100\n",
            "\u001b[1m1032/1032\u001b[0m \u001b[32m━━━━━━━━━━━━━━━━━━━━\u001b[0m\u001b[37m\u001b[0m \u001b[1m4s\u001b[0m 3ms/step - loss: 0.3265 - mae: 0.3952 - val_loss: 0.2966 - val_mae: 0.3647\n",
            "Epoch 13/100\n",
            "\u001b[1m1032/1032\u001b[0m \u001b[32m━━━━━━━━━━━━━━━━━━━━\u001b[0m\u001b[37m\u001b[0m \u001b[1m3s\u001b[0m 3ms/step - loss: 0.3141 - mae: 0.3885 - val_loss: 0.3099 - val_mae: 0.4036\n",
            "Epoch 14/100\n",
            "\u001b[1m1032/1032\u001b[0m \u001b[32m━━━━━━━━━━━━━━━━━━━━\u001b[0m\u001b[37m\u001b[0m \u001b[1m4s\u001b[0m 4ms/step - loss: 0.3083 - mae: 0.3841 - val_loss: 0.2979 - val_mae: 0.3841\n",
            "Epoch 15/100\n",
            "\u001b[1m1032/1032\u001b[0m \u001b[32m━━━━━━━━━━━━━━━━━━━━\u001b[0m\u001b[37m\u001b[0m \u001b[1m4s\u001b[0m 3ms/step - loss: 0.3111 - mae: 0.3912 - val_loss: 0.3027 - val_mae: 0.3686\n",
            "Epoch 16/100\n",
            "\u001b[1m1032/1032\u001b[0m \u001b[32m━━━━━━━━━━━━━━━━━━━━\u001b[0m\u001b[37m\u001b[0m \u001b[1m3s\u001b[0m 3ms/step - loss: 0.2987 - mae: 0.3794 - val_loss: 0.2841 - val_mae: 0.3595\n",
            "Epoch 17/100\n",
            "\u001b[1m1032/1032\u001b[0m \u001b[32m━━━━━━━━━━━━━━━━━━━━\u001b[0m\u001b[37m\u001b[0m \u001b[1m3s\u001b[0m 3ms/step - loss: 0.2927 - mae: 0.3743 - val_loss: 0.2743 - val_mae: 0.3526\n",
            "Epoch 18/100\n",
            "\u001b[1m1032/1032\u001b[0m \u001b[32m━━━━━━━━━━━━━━━━━━━━\u001b[0m\u001b[37m\u001b[0m \u001b[1m4s\u001b[0m 4ms/step - loss: 0.2956 - mae: 0.3738 - val_loss: 0.2853 - val_mae: 0.3734\n",
            "Epoch 19/100\n",
            "\u001b[1m1032/1032\u001b[0m \u001b[32m━━━━━━━━━━━━━━━━━━━━\u001b[0m\u001b[37m\u001b[0m \u001b[1m4s\u001b[0m 3ms/step - loss: 0.2986 - mae: 0.3798 - val_loss: 0.2854 - val_mae: 0.3700\n",
            "Epoch 20/100\n",
            "\u001b[1m1032/1032\u001b[0m \u001b[32m━━━━━━━━━━━━━━━━━━━━\u001b[0m\u001b[37m\u001b[0m \u001b[1m3s\u001b[0m 3ms/step - loss: 0.2836 - mae: 0.3696 - val_loss: 0.2747 - val_mae: 0.3609\n",
            "Epoch 21/100\n",
            "\u001b[1m1032/1032\u001b[0m \u001b[32m━━━━━━━━━━━━━━━━━━━━\u001b[0m\u001b[37m\u001b[0m \u001b[1m6s\u001b[0m 3ms/step - loss: 0.2813 - mae: 0.3695 - val_loss: 0.2821 - val_mae: 0.3687\n",
            "Epoch 22/100\n",
            "\u001b[1m1032/1032\u001b[0m \u001b[32m━━━━━━━━━━━━━━━━━━━━\u001b[0m\u001b[37m\u001b[0m \u001b[1m3s\u001b[0m 3ms/step - loss: 0.2819 - mae: 0.3687 - val_loss: 0.2794 - val_mae: 0.3521\n",
            "Epoch 23/100\n",
            "\u001b[1m1032/1032\u001b[0m \u001b[32m━━━━━━━━━━━━━━━━━━━━\u001b[0m\u001b[37m\u001b[0m \u001b[1m5s\u001b[0m 3ms/step - loss: 0.2921 - mae: 0.3723 - val_loss: 0.2873 - val_mae: 0.3655\n",
            "Epoch 24/100\n",
            "\u001b[1m1032/1032\u001b[0m \u001b[32m━━━━━━━━━━━━━━━━━━━━\u001b[0m\u001b[37m\u001b[0m \u001b[1m5s\u001b[0m 3ms/step - loss: 0.2856 - mae: 0.3698 - val_loss: 0.2791 - val_mae: 0.3628\n",
            "Epoch 25/100\n",
            "\u001b[1m1032/1032\u001b[0m \u001b[32m━━━━━━━━━━━━━━━━━━━━\u001b[0m\u001b[37m\u001b[0m \u001b[1m5s\u001b[0m 3ms/step - loss: 0.2704 - mae: 0.3612 - val_loss: 0.2831 - val_mae: 0.3732\n",
            "Epoch 26/100\n",
            "\u001b[1m1032/1032\u001b[0m \u001b[32m━━━━━━━━━━━━━━━━━━━━\u001b[0m\u001b[37m\u001b[0m \u001b[1m5s\u001b[0m 3ms/step - loss: 0.2943 - mae: 0.3716 - val_loss: 0.2835 - val_mae: 0.3707\n",
            "Epoch 27/100\n",
            "\u001b[1m1032/1032\u001b[0m \u001b[32m━━━━━━━━━━━━━━━━━━━━\u001b[0m\u001b[37m\u001b[0m \u001b[1m3s\u001b[0m 3ms/step - loss: 0.2830 - mae: 0.3686 - val_loss: 0.2703 - val_mae: 0.3545\n",
            "Epoch 28/100\n",
            "\u001b[1m1032/1032\u001b[0m \u001b[32m━━━━━━━━━━━━━━━━━━━━\u001b[0m\u001b[37m\u001b[0m \u001b[1m3s\u001b[0m 3ms/step - loss: 0.2826 - mae: 0.3666 - val_loss: 0.2816 - val_mae: 0.3654\n",
            "Epoch 29/100\n",
            "\u001b[1m1032/1032\u001b[0m \u001b[32m━━━━━━━━━━━━━━━━━━━━\u001b[0m\u001b[37m\u001b[0m \u001b[1m4s\u001b[0m 3ms/step - loss: 0.2930 - mae: 0.3702 - val_loss: 0.2751 - val_mae: 0.3602\n",
            "Epoch 30/100\n",
            "\u001b[1m1032/1032\u001b[0m \u001b[32m━━━━━━━━━━━━━━━━━━━━\u001b[0m\u001b[37m\u001b[0m \u001b[1m3s\u001b[0m 3ms/step - loss: 0.2635 - mae: 0.3585 - val_loss: 0.2725 - val_mae: 0.3528\n",
            "Epoch 31/100\n",
            "\u001b[1m1032/1032\u001b[0m \u001b[32m━━━━━━━━━━━━━━━━━━━━\u001b[0m\u001b[37m\u001b[0m \u001b[1m6s\u001b[0m 3ms/step - loss: 0.2714 - mae: 0.3593 - val_loss: 0.2721 - val_mae: 0.3537\n",
            "Epoch 32/100\n",
            "\u001b[1m1032/1032\u001b[0m \u001b[32m━━━━━━━━━━━━━━━━━━━━\u001b[0m\u001b[37m\u001b[0m \u001b[1m4s\u001b[0m 3ms/step - loss: 0.2761 - mae: 0.3660 - val_loss: 0.2683 - val_mae: 0.3537\n",
            "Epoch 33/100\n",
            "\u001b[1m1032/1032\u001b[0m \u001b[32m━━━━━━━━━━━━━━━━━━━━\u001b[0m\u001b[37m\u001b[0m \u001b[1m3s\u001b[0m 3ms/step - loss: 0.2755 - mae: 0.3612 - val_loss: 0.2752 - val_mae: 0.3653\n",
            "Epoch 34/100\n",
            "\u001b[1m1032/1032\u001b[0m \u001b[32m━━━━━━━━━━━━━━━━━━━━\u001b[0m\u001b[37m\u001b[0m \u001b[1m3s\u001b[0m 3ms/step - loss: 0.2693 - mae: 0.3598 - val_loss: 0.2665 - val_mae: 0.3466\n",
            "Epoch 35/100\n",
            "\u001b[1m1032/1032\u001b[0m \u001b[32m━━━━━━━━━━━━━━━━━━━━\u001b[0m\u001b[37m\u001b[0m \u001b[1m3s\u001b[0m 3ms/step - loss: 0.2692 - mae: 0.3551 - val_loss: 0.2713 - val_mae: 0.3459\n",
            "Epoch 36/100\n",
            "\u001b[1m1032/1032\u001b[0m \u001b[32m━━━━━━━━━━━━━━━━━━━━\u001b[0m\u001b[37m\u001b[0m \u001b[1m5s\u001b[0m 3ms/step - loss: 0.2554 - mae: 0.3521 - val_loss: 0.2743 - val_mae: 0.3539\n",
            "Epoch 37/100\n",
            "\u001b[1m1032/1032\u001b[0m \u001b[32m━━━━━━━━━━━━━━━━━━━━\u001b[0m\u001b[37m\u001b[0m \u001b[1m3s\u001b[0m 3ms/step - loss: 0.2756 - mae: 0.3601 - val_loss: 0.2624 - val_mae: 0.3442\n",
            "Epoch 38/100\n",
            "\u001b[1m1032/1032\u001b[0m \u001b[32m━━━━━━━━━━━━━━━━━━━━\u001b[0m\u001b[37m\u001b[0m \u001b[1m3s\u001b[0m 3ms/step - loss: 0.2701 - mae: 0.3577 - val_loss: 0.2614 - val_mae: 0.3457\n",
            "Epoch 39/100\n",
            "\u001b[1m1032/1032\u001b[0m \u001b[32m━━━━━━━━━━━━━━━━━━━━\u001b[0m\u001b[37m\u001b[0m \u001b[1m5s\u001b[0m 3ms/step - loss: 0.2612 - mae: 0.3539 - val_loss: 0.2677 - val_mae: 0.3483\n",
            "Epoch 40/100\n",
            "\u001b[1m1032/1032\u001b[0m \u001b[32m━━━━━━━━━━━━━━━━━━━━\u001b[0m\u001b[37m\u001b[0m \u001b[1m3s\u001b[0m 3ms/step - loss: 0.2671 - mae: 0.3580 - val_loss: 0.2636 - val_mae: 0.3487\n",
            "Epoch 41/100\n",
            "\u001b[1m1032/1032\u001b[0m \u001b[32m━━━━━━━━━━━━━━━━━━━━\u001b[0m\u001b[37m\u001b[0m \u001b[1m3s\u001b[0m 3ms/step - loss: 0.2763 - mae: 0.3569 - val_loss: 0.2573 - val_mae: 0.3434\n",
            "Epoch 42/100\n",
            "\u001b[1m1032/1032\u001b[0m \u001b[32m━━━━━━━━━━━━━━━━━━━━\u001b[0m\u001b[37m\u001b[0m \u001b[1m5s\u001b[0m 3ms/step - loss: 0.2708 - mae: 0.3590 - val_loss: 0.2653 - val_mae: 0.3476\n",
            "Epoch 43/100\n",
            "\u001b[1m1032/1032\u001b[0m \u001b[32m━━━━━━━━━━━━━━━━━━━━\u001b[0m\u001b[37m\u001b[0m \u001b[1m5s\u001b[0m 3ms/step - loss: 0.2602 - mae: 0.3528 - val_loss: 0.2648 - val_mae: 0.3474\n",
            "Epoch 44/100\n",
            "\u001b[1m1032/1032\u001b[0m \u001b[32m━━━━━━━━━━━━━━━━━━━━\u001b[0m\u001b[37m\u001b[0m \u001b[1m3s\u001b[0m 3ms/step - loss: 0.2681 - mae: 0.3515 - val_loss: 0.2598 - val_mae: 0.3395\n",
            "Epoch 45/100\n",
            "\u001b[1m1032/1032\u001b[0m \u001b[32m━━━━━━━━━━━━━━━━━━━━\u001b[0m\u001b[37m\u001b[0m \u001b[1m4s\u001b[0m 4ms/step - loss: 0.2652 - mae: 0.3521 - val_loss: 0.2654 - val_mae: 0.3513\n",
            "Epoch 46/100\n",
            "\u001b[1m1032/1032\u001b[0m \u001b[32m━━━━━━━━━━━━━━━━━━━━\u001b[0m\u001b[37m\u001b[0m \u001b[1m3s\u001b[0m 3ms/step - loss: 0.2536 - mae: 0.3470 - val_loss: 0.2625 - val_mae: 0.3425\n",
            "Epoch 47/100\n",
            "\u001b[1m1032/1032\u001b[0m \u001b[32m━━━━━━━━━━━━━━━━━━━━\u001b[0m\u001b[37m\u001b[0m \u001b[1m5s\u001b[0m 3ms/step - loss: 0.2619 - mae: 0.3511 - val_loss: 0.2608 - val_mae: 0.3427\n",
            "Epoch 48/100\n",
            "\u001b[1m1032/1032\u001b[0m \u001b[32m━━━━━━━━━━━━━━━━━━━━\u001b[0m\u001b[37m\u001b[0m \u001b[1m4s\u001b[0m 3ms/step - loss: 0.2594 - mae: 0.3510 - val_loss: 0.2668 - val_mae: 0.3603\n",
            "Epoch 49/100\n",
            "\u001b[1m1032/1032\u001b[0m \u001b[32m━━━━━━━━━━━━━━━━━━━━\u001b[0m\u001b[37m\u001b[0m \u001b[1m5s\u001b[0m 3ms/step - loss: 0.2603 - mae: 0.3497 - val_loss: 0.2550 - val_mae: 0.3443\n",
            "Epoch 50/100\n",
            "\u001b[1m1032/1032\u001b[0m \u001b[32m━━━━━━━━━━━━━━━━━━━━\u001b[0m\u001b[37m\u001b[0m \u001b[1m3s\u001b[0m 3ms/step - loss: 0.2572 - mae: 0.3495 - val_loss: 0.2580 - val_mae: 0.3458\n",
            "Epoch 51/100\n",
            "\u001b[1m1032/1032\u001b[0m \u001b[32m━━━━━━━━━━━━━━━━━━━━\u001b[0m\u001b[37m\u001b[0m \u001b[1m4s\u001b[0m 4ms/step - loss: 0.2603 - mae: 0.3524 - val_loss: 0.2589 - val_mae: 0.3477\n",
            "Epoch 52/100\n",
            "\u001b[1m1032/1032\u001b[0m \u001b[32m━━━━━━━━━━━━━━━━━━━━\u001b[0m\u001b[37m\u001b[0m \u001b[1m3s\u001b[0m 3ms/step - loss: 0.2606 - mae: 0.3531 - val_loss: 0.2590 - val_mae: 0.3492\n",
            "Epoch 53/100\n",
            "\u001b[1m1032/1032\u001b[0m \u001b[32m━━━━━━━━━━━━━━━━━━━━\u001b[0m\u001b[37m\u001b[0m \u001b[1m5s\u001b[0m 3ms/step - loss: 0.2582 - mae: 0.3491 - val_loss: 0.2594 - val_mae: 0.3496\n",
            "Epoch 54/100\n",
            "\u001b[1m1032/1032\u001b[0m \u001b[32m━━━━━━━━━━━━━━━━━━━━\u001b[0m\u001b[37m\u001b[0m \u001b[1m5s\u001b[0m 3ms/step - loss: 0.2645 - mae: 0.3515 - val_loss: 0.2618 - val_mae: 0.3528\n",
            "Epoch 55/100\n",
            "\u001b[1m1032/1032\u001b[0m \u001b[32m━━━━━━━━━━━━━━━━━━━━\u001b[0m\u001b[37m\u001b[0m \u001b[1m5s\u001b[0m 3ms/step - loss: 0.2511 - mae: 0.3446 - val_loss: 0.2647 - val_mae: 0.3461\n",
            "Epoch 56/100\n",
            "\u001b[1m1032/1032\u001b[0m \u001b[32m━━━━━━━━━━━━━━━━━━━━\u001b[0m\u001b[37m\u001b[0m \u001b[1m6s\u001b[0m 4ms/step - loss: 0.2523 - mae: 0.3452 - val_loss: 0.2630 - val_mae: 0.3525\n",
            "Epoch 57/100\n",
            "\u001b[1m1032/1032\u001b[0m \u001b[32m━━━━━━━━━━━━━━━━━━━━\u001b[0m\u001b[37m\u001b[0m \u001b[1m3s\u001b[0m 3ms/step - loss: 0.2517 - mae: 0.3451 - val_loss: 0.2710 - val_mae: 0.3538\n",
            "Epoch 58/100\n",
            "\u001b[1m1032/1032\u001b[0m \u001b[32m━━━━━━━━━━━━━━━━━━━━\u001b[0m\u001b[37m\u001b[0m \u001b[1m5s\u001b[0m 3ms/step - loss: 0.2611 - mae: 0.3506 - val_loss: 0.2611 - val_mae: 0.3371\n",
            "Epoch 59/100\n",
            "\u001b[1m1032/1032\u001b[0m \u001b[32m━━━━━━━━━━━━━━━━━━━━\u001b[0m\u001b[37m\u001b[0m \u001b[1m4s\u001b[0m 3ms/step - loss: 0.2531 - mae: 0.3452 - val_loss: 0.2619 - val_mae: 0.3465\n",
            "Epoch 60/100\n",
            "\u001b[1m1032/1032\u001b[0m \u001b[32m━━━━━━━━━━━━━━━━━━━━\u001b[0m\u001b[37m\u001b[0m \u001b[1m3s\u001b[0m 3ms/step - loss: 0.2555 - mae: 0.3458 - val_loss: 0.2592 - val_mae: 0.3448\n",
            "Epoch 61/100\n",
            "\u001b[1m1032/1032\u001b[0m \u001b[32m━━━━━━━━━━━━━━━━━━━━\u001b[0m\u001b[37m\u001b[0m \u001b[1m3s\u001b[0m 3ms/step - loss: 0.2673 - mae: 0.3514 - val_loss: 0.2537 - val_mae: 0.3452\n",
            "Epoch 62/100\n",
            "\u001b[1m1032/1032\u001b[0m \u001b[32m━━━━━━━━━━━━━━━━━━━━\u001b[0m\u001b[37m\u001b[0m \u001b[1m6s\u001b[0m 3ms/step - loss: 0.2475 - mae: 0.3453 - val_loss: 0.2554 - val_mae: 0.3408\n",
            "Epoch 63/100\n",
            "\u001b[1m1032/1032\u001b[0m \u001b[32m━━━━━━━━━━━━━━━━━━━━\u001b[0m\u001b[37m\u001b[0m \u001b[1m5s\u001b[0m 3ms/step - loss: 0.2518 - mae: 0.3447 - val_loss: 0.2577 - val_mae: 0.3521\n",
            "Epoch 64/100\n",
            "\u001b[1m1032/1032\u001b[0m \u001b[32m━━━━━━━━━━━━━━━━━━━━\u001b[0m\u001b[37m\u001b[0m \u001b[1m5s\u001b[0m 3ms/step - loss: 0.2453 - mae: 0.3409 - val_loss: 0.2568 - val_mae: 0.3377\n",
            "Epoch 65/100\n",
            "\u001b[1m1032/1032\u001b[0m \u001b[32m━━━━━━━━━━━━━━━━━━━━\u001b[0m\u001b[37m\u001b[0m \u001b[1m5s\u001b[0m 3ms/step - loss: 0.2531 - mae: 0.3462 - val_loss: 0.2581 - val_mae: 0.3531\n",
            "Epoch 66/100\n",
            "\u001b[1m1032/1032\u001b[0m \u001b[32m━━━━━━━━━━━━━━━━━━━━\u001b[0m\u001b[37m\u001b[0m \u001b[1m3s\u001b[0m 3ms/step - loss: 0.2530 - mae: 0.3464 - val_loss: 0.2688 - val_mae: 0.3520\n",
            "Epoch 67/100\n",
            "\u001b[1m1032/1032\u001b[0m \u001b[32m━━━━━━━━━━━━━━━━━━━━\u001b[0m\u001b[37m\u001b[0m \u001b[1m6s\u001b[0m 3ms/step - loss: 0.2564 - mae: 0.3473 - val_loss: 0.2558 - val_mae: 0.3421\n",
            "Epoch 68/100\n",
            "\u001b[1m1032/1032\u001b[0m \u001b[32m━━━━━━━━━━━━━━━━━━━━\u001b[0m\u001b[37m\u001b[0m \u001b[1m3s\u001b[0m 3ms/step - loss: 0.2426 - mae: 0.3389 - val_loss: 0.2634 - val_mae: 0.3485\n",
            "Epoch 69/100\n",
            "\u001b[1m1032/1032\u001b[0m \u001b[32m━━━━━━━━━━━━━━━━━━━━\u001b[0m\u001b[37m\u001b[0m \u001b[1m5s\u001b[0m 3ms/step - loss: 0.2506 - mae: 0.3439 - val_loss: 0.2691 - val_mae: 0.3560\n",
            "Epoch 70/100\n",
            "\u001b[1m1032/1032\u001b[0m \u001b[32m━━━━━━━━━━━━━━━━━━━━\u001b[0m\u001b[37m\u001b[0m \u001b[1m3s\u001b[0m 3ms/step - loss: 0.2452 - mae: 0.3435 - val_loss: 0.2586 - val_mae: 0.3420\n",
            "Epoch 71/100\n",
            "\u001b[1m1032/1032\u001b[0m \u001b[32m━━━━━━━━━━━━━━━━━━━━\u001b[0m\u001b[37m\u001b[0m \u001b[1m3s\u001b[0m 3ms/step - loss: 0.2491 - mae: 0.3442 - val_loss: 0.3148 - val_mae: 0.3551\n",
            "Epoch 72/100\n",
            "\u001b[1m1032/1032\u001b[0m \u001b[32m━━━━━━━━━━━━━━━━━━━━\u001b[0m\u001b[37m\u001b[0m \u001b[1m5s\u001b[0m 3ms/step - loss: 0.2516 - mae: 0.3428 - val_loss: 0.2565 - val_mae: 0.3455\n",
            "Epoch 73/100\n",
            "\u001b[1m1032/1032\u001b[0m \u001b[32m━━━━━━━━━━━━━━━━━━━━\u001b[0m\u001b[37m\u001b[0m \u001b[1m6s\u001b[0m 3ms/step - loss: 0.2433 - mae: 0.3409 - val_loss: 0.2658 - val_mae: 0.3547\n",
            "Epoch 74/100\n",
            "\u001b[1m1032/1032\u001b[0m \u001b[32m━━━━━━━━━━━━━━━━━━━━\u001b[0m\u001b[37m\u001b[0m \u001b[1m3s\u001b[0m 3ms/step - loss: 0.2464 - mae: 0.3433 - val_loss: 0.2669 - val_mae: 0.3549\n",
            "Epoch 75/100\n",
            "\u001b[1m1032/1032\u001b[0m \u001b[32m━━━━━━━━━━━━━━━━━━━━\u001b[0m\u001b[37m\u001b[0m \u001b[1m3s\u001b[0m 3ms/step - loss: 0.2477 - mae: 0.3444 - val_loss: 0.2622 - val_mae: 0.3503\n",
            "Epoch 76/100\n",
            "\u001b[1m1032/1032\u001b[0m \u001b[32m━━━━━━━━━━━━━━━━━━━━\u001b[0m\u001b[37m\u001b[0m \u001b[1m3s\u001b[0m 3ms/step - loss: 0.2510 - mae: 0.3469 - val_loss: 0.2587 - val_mae: 0.3483\n",
            "Epoch 77/100\n",
            "\u001b[1m1032/1032\u001b[0m \u001b[32m━━━━━━━━━━━━━━━━━━━━\u001b[0m\u001b[37m\u001b[0m \u001b[1m5s\u001b[0m 3ms/step - loss: 0.2507 - mae: 0.3449 - val_loss: 0.2605 - val_mae: 0.3555\n",
            "Epoch 78/100\n",
            "\u001b[1m1032/1032\u001b[0m \u001b[32m━━━━━━━━━━━━━━━━━━━━\u001b[0m\u001b[37m\u001b[0m \u001b[1m3s\u001b[0m 3ms/step - loss: 0.2508 - mae: 0.3443 - val_loss: 0.2547 - val_mae: 0.3360\n",
            "Epoch 79/100\n",
            "\u001b[1m1032/1032\u001b[0m \u001b[32m━━━━━━━━━━━━━━━━━━━━\u001b[0m\u001b[37m\u001b[0m \u001b[1m3s\u001b[0m 3ms/step - loss: 0.2491 - mae: 0.3441 - val_loss: 0.2599 - val_mae: 0.3420\n",
            "Epoch 80/100\n",
            "\u001b[1m1032/1032\u001b[0m \u001b[32m━━━━━━━━━━━━━━━━━━━━\u001b[0m\u001b[37m\u001b[0m \u001b[1m5s\u001b[0m 3ms/step - loss: 0.2453 - mae: 0.3397 - val_loss: 0.2567 - val_mae: 0.3432\n",
            "Epoch 81/100\n",
            "\u001b[1m1032/1032\u001b[0m \u001b[32m━━━━━━━━━━━━━━━━━━━━\u001b[0m\u001b[37m\u001b[0m \u001b[1m5s\u001b[0m 3ms/step - loss: 0.2534 - mae: 0.3447 - val_loss: 0.2534 - val_mae: 0.3373\n",
            "Epoch 82/100\n",
            "\u001b[1m1032/1032\u001b[0m \u001b[32m━━━━━━━━━━━━━━━━━━━━\u001b[0m\u001b[37m\u001b[0m \u001b[1m3s\u001b[0m 3ms/step - loss: 0.2497 - mae: 0.3433 - val_loss: 0.2596 - val_mae: 0.3503\n",
            "Epoch 83/100\n",
            "\u001b[1m1032/1032\u001b[0m \u001b[32m━━━━━━━━━━━━━━━━━━━━\u001b[0m\u001b[37m\u001b[0m \u001b[1m5s\u001b[0m 3ms/step - loss: 0.2461 - mae: 0.3417 - val_loss: 0.2600 - val_mae: 0.3413\n",
            "Epoch 84/100\n",
            "\u001b[1m1032/1032\u001b[0m \u001b[32m━━━━━━━━━━━━━━━━━━━━\u001b[0m\u001b[37m\u001b[0m \u001b[1m5s\u001b[0m 3ms/step - loss: 0.2483 - mae: 0.3403 - val_loss: 0.2591 - val_mae: 0.3399\n",
            "Epoch 85/100\n",
            "\u001b[1m1032/1032\u001b[0m \u001b[32m━━━━━━━━━━━━━━━━━━━━\u001b[0m\u001b[37m\u001b[0m \u001b[1m5s\u001b[0m 3ms/step - loss: 0.2376 - mae: 0.3356 - val_loss: 0.2522 - val_mae: 0.3340\n",
            "Epoch 86/100\n",
            "\u001b[1m1032/1032\u001b[0m \u001b[32m━━━━━━━━━━━━━━━━━━━━\u001b[0m\u001b[37m\u001b[0m \u001b[1m5s\u001b[0m 3ms/step - loss: 0.2441 - mae: 0.3384 - val_loss: 0.2595 - val_mae: 0.3490\n",
            "Epoch 87/100\n",
            "\u001b[1m1032/1032\u001b[0m \u001b[32m━━━━━━━━━━━━━━━━━━━━\u001b[0m\u001b[37m\u001b[0m \u001b[1m6s\u001b[0m 4ms/step - loss: 0.2391 - mae: 0.3352 - val_loss: 0.2535 - val_mae: 0.3385\n",
            "Epoch 88/100\n",
            "\u001b[1m1032/1032\u001b[0m \u001b[32m━━━━━━━━━━━━━━━━━━━━\u001b[0m\u001b[37m\u001b[0m \u001b[1m3s\u001b[0m 3ms/step - loss: 0.2454 - mae: 0.3411 - val_loss: 0.2552 - val_mae: 0.3417\n",
            "Epoch 89/100\n",
            "\u001b[1m1032/1032\u001b[0m \u001b[32m━━━━━━━━━━━━━━━━━━━━\u001b[0m\u001b[37m\u001b[0m \u001b[1m5s\u001b[0m 3ms/step - loss: 0.2497 - mae: 0.3422 - val_loss: 0.2510 - val_mae: 0.3344\n",
            "Epoch 90/100\n",
            "\u001b[1m1032/1032\u001b[0m \u001b[32m━━━━━━━━━━━━━━━━━━━━\u001b[0m\u001b[37m\u001b[0m \u001b[1m4s\u001b[0m 4ms/step - loss: 0.2365 - mae: 0.3342 - val_loss: 0.2545 - val_mae: 0.3439\n",
            "Epoch 91/100\n",
            "\u001b[1m1032/1032\u001b[0m \u001b[32m━━━━━━━━━━━━━━━━━━━━\u001b[0m\u001b[37m\u001b[0m \u001b[1m4s\u001b[0m 3ms/step - loss: 0.2331 - mae: 0.3347 - val_loss: 0.2563 - val_mae: 0.3395\n",
            "Epoch 92/100\n",
            "\u001b[1m1032/1032\u001b[0m \u001b[32m━━━━━━━━━━━━━━━━━━━━\u001b[0m\u001b[37m\u001b[0m \u001b[1m6s\u001b[0m 4ms/step - loss: 0.2430 - mae: 0.3375 - val_loss: 0.2543 - val_mae: 0.3379\n",
            "Epoch 93/100\n",
            "\u001b[1m1032/1032\u001b[0m \u001b[32m━━━━━━━━━━━━━━━━━━━━\u001b[0m\u001b[37m\u001b[0m \u001b[1m4s\u001b[0m 3ms/step - loss: 0.2414 - mae: 0.3371 - val_loss: 0.2563 - val_mae: 0.3421\n",
            "Epoch 94/100\n",
            "\u001b[1m1032/1032\u001b[0m \u001b[32m━━━━━━━━━━━━━━━━━━━━\u001b[0m\u001b[37m\u001b[0m \u001b[1m5s\u001b[0m 3ms/step - loss: 0.2419 - mae: 0.3399 - val_loss: 0.2580 - val_mae: 0.3439\n",
            "Epoch 95/100\n",
            "\u001b[1m1032/1032\u001b[0m \u001b[32m━━━━━━━━━━━━━━━━━━━━\u001b[0m\u001b[37m\u001b[0m \u001b[1m5s\u001b[0m 3ms/step - loss: 0.2497 - mae: 0.3446 - val_loss: 0.2513 - val_mae: 0.3387\n",
            "Epoch 96/100\n",
            "\u001b[1m1032/1032\u001b[0m \u001b[32m━━━━━━━━━━━━━━━━━━━━\u001b[0m\u001b[37m\u001b[0m \u001b[1m5s\u001b[0m 3ms/step - loss: 0.2344 - mae: 0.3325 - val_loss: 0.2537 - val_mae: 0.3373\n",
            "Epoch 97/100\n",
            "\u001b[1m1032/1032\u001b[0m \u001b[32m━━━━━━━━━━━━━━━━━━━━\u001b[0m\u001b[37m\u001b[0m \u001b[1m6s\u001b[0m 4ms/step - loss: 0.2449 - mae: 0.3409 - val_loss: 0.2496 - val_mae: 0.3336\n",
            "Epoch 98/100\n",
            "\u001b[1m1032/1032\u001b[0m \u001b[32m━━━━━━━━━━━━━━━━━━━━\u001b[0m\u001b[37m\u001b[0m \u001b[1m4s\u001b[0m 3ms/step - loss: 0.2473 - mae: 0.3431 - val_loss: 0.2519 - val_mae: 0.3369\n",
            "Epoch 99/100\n",
            "\u001b[1m1032/1032\u001b[0m \u001b[32m━━━━━━━━━━━━━━━━━━━━\u001b[0m\u001b[37m\u001b[0m \u001b[1m6s\u001b[0m 3ms/step - loss: 0.2343 - mae: 0.3354 - val_loss: 0.2538 - val_mae: 0.3453\n",
            "Epoch 100/100\n",
            "\u001b[1m1032/1032\u001b[0m \u001b[32m━━━━━━━━━━━━━━━━━━━━\u001b[0m\u001b[37m\u001b[0m \u001b[1m3s\u001b[0m 3ms/step - loss: 0.2440 - mae: 0.3366 - val_loss: 0.2595 - val_mae: 0.3447\n"
          ]
        },
        {
          "output_type": "execute_result",
          "data": {
            "text/plain": [
              "<keras.src.callbacks.history.History at 0x7d74d0869fd0>"
            ]
          },
          "metadata": {},
          "execution_count": 6
        }
      ]
    },
    {
      "cell_type": "code",
      "source": [
        "test_mae = model.evaluate(X_test, y_test)[1]"
      ],
      "metadata": {
        "colab": {
          "base_uri": "https://localhost:8080/"
        },
        "id": "CGiVL8DM9ajM",
        "outputId": "3ee5e9ad-15ff-466b-9050-ed170a02ed5f"
      },
      "execution_count": null,
      "outputs": [
        {
          "output_type": "stream",
          "name": "stdout",
          "text": [
            "\u001b[1m129/129\u001b[0m \u001b[32m━━━━━━━━━━━━━━━━━━━━\u001b[0m\u001b[37m\u001b[0m \u001b[1m1s\u001b[0m 4ms/step - loss: 0.2531 - mae: 0.3431\n"
          ]
        }
      ]
    },
    {
      "cell_type": "code",
      "source": [
        "y_pred = model.predict(X_test[:5]).flatten()"
      ],
      "metadata": {
        "colab": {
          "base_uri": "https://localhost:8080/"
        },
        "id": "vRn8xXH4_FKl",
        "outputId": "0ef84850-4d3e-48ab-807c-e60de7cd0f67"
      },
      "execution_count": null,
      "outputs": [
        {
          "output_type": "stream",
          "name": "stdout",
          "text": [
            "\u001b[1m1/1\u001b[0m \u001b[32m━━━━━━━━━━━━━━━━━━━━\u001b[0m\u001b[37m\u001b[0m \u001b[1m0s\u001b[0m 435ms/step\n"
          ]
        }
      ]
    },
    {
      "cell_type": "code",
      "source": [
        "print(f\"Test MAE: {test_mae}\")\n",
        "print(\"Actual Prices:\", y_test[:5])\n",
        "print(\"Predicted Prices:\", y_pred)"
      ],
      "metadata": {
        "id": "yEl1BIWu_JkR",
        "outputId": "a7d106dc-c95e-4588-da2a-37007c1ecc6f",
        "colab": {
          "base_uri": "https://localhost:8080/"
        }
      },
      "execution_count": null,
      "outputs": [
        {
          "output_type": "stream",
          "name": "stdout",
          "text": [
            "Test MAE: 0.3447192311286926\n",
            "Actual Prices: [0.477   0.458   5.00001 2.186   2.78   ]\n",
            "Predicted Prices: [0.56095624 1.2936163  4.8271556  2.566768   2.7580104 ]\n"
          ]
        }
      ]
    },
    {
      "cell_type": "code",
      "source": [],
      "metadata": {
        "id": "8-iEkdoz_MvW"
      },
      "execution_count": null,
      "outputs": []
    }
  ]
}