{
  "nbformat": 4,
  "nbformat_minor": 0,
  "metadata": {
    "colab": {
      "provenance": [],
      "gpuType": "T4",
      "authorship_tag": "ABX9TyPOadlx7F9N+gnLw9BbLWvX",
      "include_colab_link": true
    },
    "kernelspec": {
      "name": "python3",
      "display_name": "Python 3"
    },
    "language_info": {
      "name": "python"
    },
    "accelerator": "GPU"
  },
  "cells": [
    {
      "cell_type": "markdown",
      "metadata": {
        "id": "view-in-github",
        "colab_type": "text"
      },
      "source": [
        "<a href=\"https://colab.research.google.com/github/ArpitaDeshmukh2024/SPPU_DL_practicals/blob/main/DL1.ipynb\" target=\"_parent\"><img src=\"https://colab.research.google.com/assets/colab-badge.svg\" alt=\"Open In Colab\"/></a>"
      ]
    },
    {
      "cell_type": "code",
      "execution_count": 1,
      "metadata": {
        "id": "EiqzwNo58lTf"
      },
      "outputs": [],
      "source": [
        "import tensorflow as tf\n",
        "from tensorflow.keras.models import Sequential\n",
        "from tensorflow.keras.layers import Dense, Dropout\n",
        "from sklearn.preprocessing import StandardScaler\n",
        "from sklearn.model_selection import train_test_split\n",
        "import matplotlib.pyplot as plt"
      ]
    },
    {
      "cell_type": "code",
      "source": [
        "boston_dataset = tf.keras.datasets.boston_housing.load_data()"
      ],
      "metadata": {
        "id": "w3-G3s6D80Sn",
        "colab": {
          "base_uri": "https://localhost:8080/"
        },
        "outputId": "6a3e1bea-2735-46b9-fb06-45d4693d692f"
      },
      "execution_count": 2,
      "outputs": [
        {
          "output_type": "stream",
          "name": "stdout",
          "text": [
            "Downloading data from https://storage.googleapis.com/tensorflow/tf-keras-datasets/boston_housing.npz\n",
            "\u001b[1m57026/57026\u001b[0m \u001b[32m━━━━━━━━━━━━━━━━━━━━\u001b[0m\u001b[37m\u001b[0m \u001b[1m0s\u001b[0m 0us/step\n"
          ]
        }
      ]
    },
    {
      "cell_type": "code",
      "source": [
        "(xtrain,ytrain),(xtest,ytest) = boston_dataset"
      ],
      "metadata": {
        "id": "tIUvnzSE9FWM"
      },
      "execution_count": 3,
      "outputs": []
    },
    {
      "cell_type": "code",
      "source": [
        "scaler = StandardScaler()\n",
        "xtrain, xtest = scaler.fit_transform(xtrain), scaler.transform(xtest)"
      ],
      "metadata": {
        "id": "kXwPVmbT9Jzc"
      },
      "execution_count": 4,
      "outputs": []
    },
    {
      "cell_type": "code",
      "source": [
        "model = Sequential([\n",
        "    Dense(128, activation='relu', input_shape = (xtrain.shape[1],)),\n",
        "    Dropout(0.2),\n",
        "    Dense(64, activation='relu'),\n",
        "    Dropout(0.2),\n",
        "    Dense(32, activation='relu'),\n",
        "    Dense(1)\n",
        "])"
      ],
      "metadata": {
        "id": "zWksgMSo9Pdl",
        "colab": {
          "base_uri": "https://localhost:8080/"
        },
        "outputId": "0b1eae94-4fc4-4cf3-cdf1-aed7cd8774ab"
      },
      "execution_count": 5,
      "outputs": [
        {
          "output_type": "stream",
          "name": "stderr",
          "text": [
            "/usr/local/lib/python3.11/dist-packages/keras/src/layers/core/dense.py:87: UserWarning: Do not pass an `input_shape`/`input_dim` argument to a layer. When using Sequential models, prefer using an `Input(shape)` object as the first layer in the model instead.\n",
            "  super().__init__(activity_regularizer=activity_regularizer, **kwargs)\n"
          ]
        }
      ]
    },
    {
      "cell_type": "code",
      "source": [
        "model.compile(optimizer='adam', loss='mse')"
      ],
      "metadata": {
        "id": "t-FyBOTl9VQG"
      },
      "execution_count": 6,
      "outputs": []
    },
    {
      "cell_type": "code",
      "source": [
        "history = model.fit(xtrain, ytrain, epochs=100, validation_split=0.2, verbose=0)"
      ],
      "metadata": {
        "id": "CGiVL8DM9ajM"
      },
      "execution_count": 7,
      "outputs": []
    },
    {
      "cell_type": "code",
      "source": [
        "plt.plot(history.history['loss'], label=\"Training Loss\")\n",
        "plt.plot(history.history['val_loss'], label=\"validation Loss\")\n",
        "plt.xlabel(\"Epochs\")\n",
        "plt.ylabel(\"Loss\")\n",
        "plt.legend()\n",
        "plt.show()"
      ],
      "metadata": {
        "colab": {
          "base_uri": "https://localhost:8080/",
          "height": 449
        },
        "id": "vRn8xXH4_FKl",
        "outputId": "77414b25-861f-4bfb-c7d6-549fc3d496db"
      },
      "execution_count": 8,
      "outputs": [
        {
          "output_type": "display_data",
          "data": {
            "text/plain": [
              "<Figure size 640x480 with 1 Axes>"
            ],
            "image/png": "[encoded data removed]"
          },
          "metadata": {}
        }
      ]
    },
    {
      "cell_type": "code",
      "source": [
        "mse = model.evaluate(xtest, ytest)\n",
        "print(\"MSE Loss : \", mse)"
      ],
      "metadata": {
        "id": "yEl1BIWu_JkR",
        "outputId": "64668e6a-badc-4a58-e1be-9fec779d108a",
        "colab": {
          "base_uri": "https://localhost:8080/"
        }
      },
      "execution_count": 9,
      "outputs": [
        {
          "output_type": "stream",
          "name": "stdout",
          "text": [
            "\u001b[1m4/4\u001b[0m \u001b[32m━━━━━━━━━━━━━━━━━━━━\u001b[0m\u001b[37m\u001b[0m \u001b[1m0s\u001b[0m 10ms/step - loss: 18.0745\n",
            "MSE Loss :  23.89371681213379\n"
          ]
        }
      ]
    },
    {
      "cell_type": "code",
      "source": [
        "mae = model.evaluate(xtest, ytest)"
      ],
      "metadata": {
        "id": "8-iEkdoz_MvW",
        "colab": {
          "base_uri": "https://localhost:8080/"
        },
        "outputId": "fac67f77-dcee-4b17-dd59-90375de85a89"
      },
      "execution_count": 10,
      "outputs": [
        {
          "output_type": "stream",
          "name": "stdout",
          "text": [
            "\u001b[1m4/4\u001b[0m \u001b[32m━━━━━━━━━━━━━━━━━━━━\u001b[0m\u001b[37m\u001b[0m \u001b[1m0s\u001b[0m 8ms/step - loss: 18.0745 \n"
          ]
        }
      ]
    },
    {
      "cell_type": "code",
      "source": [
        "ypred = model.predict(xtest).flatten()"
      ],
      "metadata": {
        "colab": {
          "base_uri": "https://localhost:8080/"
        },
        "id": "Uy1jUs7M453_",
        "outputId": "d560dfc5-f0f7-4091-8910-ccbe464e1045"
      },
      "execution_count": 11,
      "outputs": [
        {
          "output_type": "stream",
          "name": "stdout",
          "text": [
            "\u001b[1m4/4\u001b[0m \u001b[32m━━━━━━━━━━━━━━━━━━━━\u001b[0m\u001b[37m\u001b[0m \u001b[1m0s\u001b[0m 31ms/step\n"
          ]
        }
      ]
    },
    {
      "cell_type": "code",
      "source": [
        "print(\"Test MAE : \", mae)\n",
        "print(\"Actual Price : \", ytest)\n",
        "print(\"Predicted Price : \", ypred)"
      ],
      "metadata": {
        "colab": {
          "base_uri": "https://localhost:8080/"
        },
        "id": "ApHUM9eo5BVr",
        "outputId": "39bd5585-9425-4589-a755-707f2f85e78c"
      },
      "execution_count": 12,
      "outputs": [
        {
          "output_type": "stream",
          "name": "stdout",
          "text": [
            "Test MAE :  23.89371681213379\n",
            "Actual Price :  [ 7.2 18.8 19.  27.  22.2 24.5 31.2 22.9 20.5 23.2 18.6 14.5 17.8 50.\n",
            " 20.8 24.3 24.2 19.8 19.1 22.7 12.  10.2 20.  18.5 20.9 23.  27.5 30.1\n",
            "  9.5 22.  21.2 14.1 33.1 23.4 20.1  7.4 15.4 23.8 20.1 24.5 33.  28.4\n",
            " 14.1 46.7 32.5 29.6 28.4 19.8 20.2 25.  35.4 20.3  9.7 14.5 34.9 26.6\n",
            "  7.2 50.  32.4 21.6 29.8 13.1 27.5 21.2 23.1 21.9 13.  23.2  8.1  5.6\n",
            " 21.7 29.6 19.6  7.  26.4 18.9 20.9 28.1 35.4 10.2 24.3 43.1 17.6 15.4\n",
            " 16.2 27.1 21.4 21.5 22.4 25.  16.6 18.6 22.  42.8 35.1 21.5 36.  21.9\n",
            " 24.1 50.  26.7 25. ]\n",
            "Predicted Price :  [ 8.448327 17.667595 21.406841 32.668434 25.648174 19.93435  26.997292\n",
            " 21.725021 19.03837  21.607742 17.653059 16.724056 15.190388 41.299202\n",
            " 19.930086 19.61401  26.763226 21.55404  18.591599 36.128716 11.400902\n",
            " 13.964512 21.22528  14.940561 20.878944 25.16901  32.010063 28.88795\n",
            " 10.537629 21.007364 19.006308 14.720985 34.455307 25.064445 17.410519\n",
            "  8.838482 15.390579 17.892338 18.73154  25.879456 29.999168 28.283283\n",
            " 13.891153 41.32602  30.105988 25.000532 26.372036 16.40215  23.04634\n",
            " 22.383894 34.40366  19.88254  11.77106  15.696774 35.946625 27.566315\n",
            " 12.189899 47.288208 35.490925 23.385353 24.742336 16.988277 15.085291\n",
            " 18.214935 23.473064 22.078121 12.862536 22.421843 13.378651  7.453426\n",
            " 35.48303  29.5736   25.763773 14.123089 25.957943 18.756672 20.207253\n",
            " 23.576641 34.64972  11.127068 20.101658 37.810017 15.830072 13.153063\n",
            " 17.298893 18.537264 21.306946 20.075054 22.27909  31.77237  20.100113\n",
            " 20.020987 25.357012 42.248657 35.35799  19.766394 36.013874 52.65185\n",
            " 26.601326 46.63914  33.428867 20.156471]\n"
          ]
        }
      ]
    }
  ]
}