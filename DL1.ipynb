{
  "nbformat": 4,
  "nbformat_minor": 0,
  "metadata": {
    "colab": {
      "provenance": [],
      "gpuType": "T4",
      "authorship_tag": "ABX9TyOmrboR+8QbXAbtYGOwp5/q",
      "include_colab_link": true
    },
    "kernelspec": {
      "name": "python3",
      "display_name": "Python 3"
    },
    "language_info": {
      "name": "python"
    },
    "accelerator": "GPU"
  },
  "cells": [
    {
      "cell_type": "markdown",
      "metadata": {
        "id": "view-in-github",
        "colab_type": "text"
      },
      "source": [
        "<a href=\"https://colab.research.google.com/github/ArpitaDeshmukh2024/SPPU_DL_practicals/blob/main/DL1.ipynb\" target=\"_parent\"><img src=\"https://colab.research.google.com/assets/colab-badge.svg\" alt=\"Open In Colab\"/></a>"
      ]
    },
    {
      "cell_type": "code",
      "execution_count": 1,
      "metadata": {
        "id": "EiqzwNo58lTf"
      },
      "outputs": [],
      "source": [
        "import tensorflow as tf\n",
        "from tensorflow.keras.models import Sequential\n",
        "from tensorflow.keras.layers import Dense, Dropout\n",
        "from sklearn.preprocessing import StandardScaler\n",
        "from sklearn.model_selection import train_test_split\n",
        "import matplotlib.pyplot as plt"
      ]
    },
    {
      "cell_type": "code",
      "source": [
        "boston_dataset = tf.keras.datasets.boston_housing.load_data()"
      ],
      "metadata": {
        "id": "w3-G3s6D80Sn",
        "colab": {
          "base_uri": "https://localhost:8080/"
        },
        "outputId": "401bb43a-c9cd-4726-b37b-95bc304a77f8"
      },
      "execution_count": 2,
      "outputs": [
        {
          "output_type": "stream",
          "name": "stdout",
          "text": [
            "Downloading data from https://storage.googleapis.com/tensorflow/tf-keras-datasets/boston_housing.npz\n",
            "\u001b[1m57026/57026\u001b[0m \u001b[32m━━━━━━━━━━━━━━━━━━━━\u001b[0m\u001b[37m\u001b[0m \u001b[1m0s\u001b[0m 0us/step\n"
          ]
        }
      ]
    },
    {
      "cell_type": "code",
      "source": [
        "(xtrain,ytrain),(xtest,ytest) = boston_dataset"
      ],
      "metadata": {
        "id": "tIUvnzSE9FWM"
      },
      "execution_count": 3,
      "outputs": []
    },
    {
      "cell_type": "code",
      "source": [
        "scaler = StandardScaler()\n",
        "xtrain, xtest = scaler.fit_transform(xtrain), scaler.transform(xtest)"
      ],
      "metadata": {
        "id": "kXwPVmbT9Jzc"
      },
      "execution_count": 4,
      "outputs": []
    },
    {
      "cell_type": "code",
      "source": [
        "model = Sequential([\n",
        "    Dense(128, activation='relu', input_shape = (xtrain.shape[1],)),\n",
        "    Dropout(0.2),\n",
        "    Dense(64, activation='relu'),\n",
        "    Dropout(0.2),\n",
        "    Dense(32, activation='relu'),\n",
        "    Dense(1)\n",
        "])"
      ],
      "metadata": {
        "id": "zWksgMSo9Pdl",
        "colab": {
          "base_uri": "https://localhost:8080/"
        },
        "outputId": "4b4d7f53-d40a-4960-edd9-a1b91227a2c5"
      },
      "execution_count": 5,
      "outputs": [
        {
          "output_type": "stream",
          "name": "stderr",
          "text": [
            "/usr/local/lib/python3.11/dist-packages/keras/src/layers/core/dense.py:87: UserWarning: Do not pass an `input_shape`/`input_dim` argument to a layer. When using Sequential models, prefer using an `Input(shape)` object as the first layer in the model instead.\n",
            "  super().__init__(activity_regularizer=activity_regularizer, **kwargs)\n"
          ]
        }
      ]
    },
    {
      "cell_type": "code",
      "source": [
        "model.compile(optimizer='adam', loss='mse', metrics=['mae'])"
      ],
      "metadata": {
        "id": "t-FyBOTl9VQG"
      },
      "execution_count": 6,
      "outputs": []
    },
    {
      "cell_type": "code",
      "source": [
        "history = model.fit(xtrain, ytrain, epochs=100, validation_split=0.2, verbose=0)"
      ],
      "metadata": {
        "id": "CGiVL8DM9ajM"
      },
      "execution_count": 7,
      "outputs": []
    },
    {
      "cell_type": "code",
      "source": [
        "plt.plot(history.history['loss'], label=\"Training Loss\")\n",
        "plt.plot(history.history['val_loss'], label=\"validation Loss\")\n",
        "plt.xlabel(\"Epochs\")\n",
        "plt.ylabel(\"Loss\")\n",
        "plt.legend()\n",
        "plt.show()"
      ],
      "metadata": {
        "colab": {
          "base_uri": "https://localhost:8080/",
          "height": 454
        },
        "id": "vRn8xXH4_FKl",
        "outputId": "e34d5ac5-3ac2-4887-db5a-0bd27f67520b"
      },
      "execution_count": 8,
      "outputs": [
        {
          "output_type": "display_data",
          "data": {
            "text/plain": [
              "<Figure size 640x480 with 1 Axes>"
            ],
            "image/png": "[encoded data removed]"
          },
          "metadata": {}
        }
      ]
    },
    {
      "cell_type": "code",
      "source": [
        "loss, mae = model.evaluate(xtest, ytest)\n",
        "print(\"MSE Loss : \", loss)"
      ],
      "metadata": {
        "id": "yEl1BIWu_JkR",
        "outputId": "7df66338-2d3f-4b4c-b880-3f284537ec38",
        "colab": {
          "base_uri": "https://localhost:8080/"
        }
      },
      "execution_count": 12,
      "outputs": [
        {
          "output_type": "stream",
          "name": "stdout",
          "text": [
            "\u001b[1m4/4\u001b[0m \u001b[32m━━━━━━━━━━━━━━━━━━━━\u001b[0m\u001b[37m\u001b[0m \u001b[1m0s\u001b[0m 9ms/step - loss: 18.6500 - mae: 2.9579 \n",
            "MSE Loss :  23.833974838256836\n"
          ]
        }
      ]
    },
    {
      "cell_type": "code",
      "source": [
        "# mae = model.evaluate(xtest, ytest)"
      ],
      "metadata": {
        "id": "8-iEkdoz_MvW"
      },
      "execution_count": 17,
      "outputs": []
    },
    {
      "cell_type": "code",
      "source": [
        "ypred = model.predict(xtest).flatten()"
      ],
      "metadata": {
        "colab": {
          "base_uri": "https://localhost:8080/"
        },
        "id": "Uy1jUs7M453_",
        "outputId": "fb8e814b-8b1c-412b-f349-629af1b2ad1f"
      },
      "execution_count": 18,
      "outputs": [
        {
          "output_type": "stream",
          "name": "stdout",
          "text": [
            "\u001b[1m4/4\u001b[0m \u001b[32m━━━━━━━━━━━━━━━━━━━━\u001b[0m\u001b[37m\u001b[0m \u001b[1m0s\u001b[0m 7ms/step \n"
          ]
        }
      ]
    },
    {
      "cell_type": "code",
      "source": [
        "print(\"Test MAE : \", mae)\n",
        "print(\"Actual Price : \", ytest)\n",
        "print(\"Predicted Price : \", ypred)"
      ],
      "metadata": {
        "colab": {
          "base_uri": "https://localhost:8080/"
        },
        "id": "ApHUM9eo5BVr",
        "outputId": "d57cdb9a-e182-412f-8592-c610864103d3"
      },
      "execution_count": 19,
      "outputs": [
        {
          "output_type": "stream",
          "name": "stdout",
          "text": [
            "Test MAE :  [23.833974838256836, 3.205336332321167]\n",
            "Actual Price :  [ 7.2 18.8 19.  27.  22.2 24.5 31.2 22.9 20.5 23.2 18.6 14.5 17.8 50.\n",
            " 20.8 24.3 24.2 19.8 19.1 22.7 12.  10.2 20.  18.5 20.9 23.  27.5 30.1\n",
            "  9.5 22.  21.2 14.1 33.1 23.4 20.1  7.4 15.4 23.8 20.1 24.5 33.  28.4\n",
            " 14.1 46.7 32.5 29.6 28.4 19.8 20.2 25.  35.4 20.3  9.7 14.5 34.9 26.6\n",
            "  7.2 50.  32.4 21.6 29.8 13.1 27.5 21.2 23.1 21.9 13.  23.2  8.1  5.6\n",
            " 21.7 29.6 19.6  7.  26.4 18.9 20.9 28.1 35.4 10.2 24.3 43.1 17.6 15.4\n",
            " 16.2 27.1 21.4 21.5 22.4 25.  16.6 18.6 22.  42.8 35.1 21.5 36.  21.9\n",
            " 24.1 50.  26.7 25. ]\n",
            "Predicted Price :  [ 8.52069   17.529436  20.530058  30.464378  24.258245  18.217133\n",
            " 26.781265  21.157187  18.78465   21.25592   17.079523  16.368801\n",
            " 14.717953  40.335953  19.508928  19.237246  25.211344  21.131958\n",
            " 18.678787  35.692734  11.466732  14.473828  19.831598  14.554534\n",
            " 20.203047  24.005232  29.754412  27.759481  10.189685  20.509565\n",
            " 18.378857  14.272559  34.080128  23.611036  17.173805   7.9181\n",
            " 14.147031  17.712198  18.703466  25.110613  29.140694  27.449335\n",
            " 14.569003  39.415886  28.931782  23.893845  25.7701    15.664473\n",
            " 23.37889   20.886385  33.425335  18.379766  11.880396  14.820699\n",
            " 34.667492  27.04397   12.231266  46.28736   34.743423  23.14994\n",
            " 23.899832  16.938936  14.0529785 17.42296   22.45048   21.08438\n",
            " 13.194728  21.394918  13.565471   6.897124  35.021507  28.777323\n",
            " 24.690672  14.213346  24.704832  17.83912   19.558628  22.272417\n",
            " 33.882633  10.859464  19.146612  37.111374  15.499826  13.548642\n",
            " 16.746634  18.092827  20.583147  18.89218   20.381529  30.702219\n",
            " 19.3057    19.986588  24.83781   39.711754  34.33384   17.987085\n",
            " 34.8704    49.778168  24.99678   42.24899   30.798199  19.614952 ]\n"
          ]
        }
      ]
    }
  ]
}